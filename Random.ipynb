{
 "cells": [
  {
   "cell_type": "code",
   "execution_count": null,
   "metadata": {},
   "outputs": [],
   "source": [
    "Collisions:\n",
    "\n",
    "ALCOHOL_INVOLVED\n",
    "BICYCLE_ACCIDENT\n",
    "MOTORCYCLE_ACCIDENT\n",
    "\n",
    "PEDESTRIAN_ACCIDENT\n",
    "TRUCK_ACCIDENT"
   ]
  },
  {
   "cell_type": "code",
   "execution_count": null,
   "metadata": {},
   "outputs": [],
   "source": [
    "COUNT_PED_KILLED\n",
    "COUNT_BICYCLIST_KILLED\n",
    "COUNT_MC_KILLED\n",
    "\n",
    "Victim table:\n",
    "VICTIM_SEX\n",
    "VICTIM_AGE"
   ]
  },
  {
   "cell_type": "code",
   "execution_count": 2,
   "metadata": {},
   "outputs": [],
   "source": [
    "import numpy as np\n",
    "import pandas as pd\n",
    "import requests\n",
    "import urllib\n",
    "import sqlite3\n",
    "# import libraries\n",
    "import geopandas as gpd\n",
    "from shapely.geometry import Point, Polygon\n",
    "import matplotlib.pyplot as plt\n"
   ]
  },
  {
   "cell_type": "code",
   "execution_count": 3,
   "metadata": {},
   "outputs": [],
   "source": [
    "con = sqlite3.connect(\"switrs.sqlite\")\n"
   ]
  },
  {
   "cell_type": "code",
   "execution_count": 8,
   "metadata": {},
   "outputs": [
    {
     "data": {
      "text/html": [
       "<div>\n",
       "<style scoped>\n",
       "    .dataframe tbody tr th:only-of-type {\n",
       "        vertical-align: middle;\n",
       "    }\n",
       "\n",
       "    .dataframe tbody tr th {\n",
       "        vertical-align: top;\n",
       "    }\n",
       "\n",
       "    .dataframe thead th {\n",
       "        text-align: right;\n",
       "    }\n",
       "</style>\n",
       "<table border=\"1\" class=\"dataframe\">\n",
       "  <thead>\n",
       "    <tr style=\"text-align: right;\">\n",
       "      <th></th>\n",
       "      <th>alcohol_involved</th>\n",
       "      <th>count</th>\n",
       "    </tr>\n",
       "  </thead>\n",
       "  <tbody>\n",
       "    <tr>\n",
       "      <th>0</th>\n",
       "      <td>1</td>\n",
       "      <td>915263</td>\n",
       "    </tr>\n",
       "  </tbody>\n",
       "</table>\n",
       "</div>"
      ],
      "text/plain": [
       "   alcohol_involved   count\n",
       "0                 1  915263"
      ]
     },
     "execution_count": 8,
     "metadata": {},
     "output_type": "execute_result"
    }
   ],
   "source": [
    "alc = ('''SELECT ALCOHOL_INVOLVED, COUNT(*) as count FROM collisions\n",
    "         WHERE ALCOHOL_INVOLVED IS NOT NULL \n",
    "         GROUP BY ALCOHOL_INVOLVED\n",
    "       ''' )\n",
    "\n",
    "df = pd.read_sql_query(alc, con)\n",
    "df"
   ]
  },
  {
   "cell_type": "code",
   "execution_count": null,
   "metadata": {},
   "outputs": [],
   "source": [
    "query = ('''SELECT party_age, COUNT(*) AS ct\n",
    "    FROM parties\n",
    "    WHERE at_fault\n",
    "    GROUP BY party_age''')\n",
    "df = pd.read_sql_query(query, con)\n",
    "df.dropna(inplace=True)\n",
    "CASE_ID\n",
    "\n",
    "#inner join \n"
   ]
  },
  {
   "cell_type": "code",
   "execution_count": 9,
   "metadata": {},
   "outputs": [
    {
     "data": {
      "text/html": [
       "<div>\n",
       "<style scoped>\n",
       "    .dataframe tbody tr th:only-of-type {\n",
       "        vertical-align: middle;\n",
       "    }\n",
       "\n",
       "    .dataframe tbody tr th {\n",
       "        vertical-align: top;\n",
       "    }\n",
       "\n",
       "    .dataframe thead th {\n",
       "        text-align: right;\n",
       "    }\n",
       "</style>\n",
       "<table border=\"1\" class=\"dataframe\">\n",
       "  <thead>\n",
       "    <tr style=\"text-align: right;\">\n",
       "      <th></th>\n",
       "      <th>case_id</th>\n",
       "    </tr>\n",
       "  </thead>\n",
       "  <tbody>\n",
       "    <tr>\n",
       "      <th>0</th>\n",
       "      <td>0000001</td>\n",
       "    </tr>\n",
       "    <tr>\n",
       "      <th>1</th>\n",
       "      <td>0000002</td>\n",
       "    </tr>\n",
       "    <tr>\n",
       "      <th>2</th>\n",
       "      <td>0000003</td>\n",
       "    </tr>\n",
       "    <tr>\n",
       "      <th>3</th>\n",
       "      <td>0000004</td>\n",
       "    </tr>\n",
       "    <tr>\n",
       "      <th>4</th>\n",
       "      <td>0000005</td>\n",
       "    </tr>\n",
       "    <tr>\n",
       "      <th>...</th>\n",
       "      <td>...</td>\n",
       "    </tr>\n",
       "    <tr>\n",
       "      <th>9172560</th>\n",
       "      <td>9870011224092016011</td>\n",
       "    </tr>\n",
       "    <tr>\n",
       "      <th>9172561</th>\n",
       "      <td>9870011224123011850</td>\n",
       "    </tr>\n",
       "    <tr>\n",
       "      <th>9172562</th>\n",
       "      <td>9870011226102009803</td>\n",
       "    </tr>\n",
       "    <tr>\n",
       "      <th>9172563</th>\n",
       "      <td>9870011228210011458</td>\n",
       "    </tr>\n",
       "    <tr>\n",
       "      <th>9172564</th>\n",
       "      <td>9870011231152508671</td>\n",
       "    </tr>\n",
       "  </tbody>\n",
       "</table>\n",
       "<p>9172565 rows × 1 columns</p>\n",
       "</div>"
      ],
      "text/plain": [
       "                     case_id\n",
       "0                    0000001\n",
       "1                    0000002\n",
       "2                    0000003\n",
       "3                    0000004\n",
       "4                    0000005\n",
       "...                      ...\n",
       "9172560  9870011224092016011\n",
       "9172561  9870011224123011850\n",
       "9172562  9870011226102009803\n",
       "9172563  9870011228210011458\n",
       "9172564  9870011231152508671\n",
       "\n",
       "[9172565 rows x 1 columns]"
      ]
     },
     "execution_count": 9,
     "metadata": {},
     "output_type": "execute_result"
    }
   ],
   "source": [
    "query = ''' SELECT CASE_ID from collisions GROUP BY CASE_ID'''\n",
    "df = pd.read_sql_query(query, con)\n",
    "df"
   ]
  },
  {
   "cell_type": "code",
   "execution_count": null,
   "metadata": {},
   "outputs": [],
   "source": []
  }
 ],
 "metadata": {
  "kernelspec": {
   "display_name": "Python 3",
   "language": "python",
   "name": "python3"
  },
  "language_info": {
   "codemirror_mode": {
    "name": "ipython",
    "version": 3
   },
   "file_extension": ".py",
   "mimetype": "text/x-python",
   "name": "python",
   "nbconvert_exporter": "python",
   "pygments_lexer": "ipython3",
   "version": "3.7.7"
  }
 },
 "nbformat": 4,
 "nbformat_minor": 4
}
