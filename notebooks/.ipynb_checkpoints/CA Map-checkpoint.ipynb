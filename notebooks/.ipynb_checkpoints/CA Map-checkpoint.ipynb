{
 "cells": [
  {
   "cell_type": "code",
   "execution_count": 1,
   "metadata": {},
   "outputs": [],
   "source": [
    "import numpy as np\n",
    "import pandas as pd\n",
    "import requests\n",
    "import urllib\n",
    "import sqlite3\n",
    "# import libraries\n",
    "import geopandas as gpd\n",
    "from shapely.geometry import Point, Polygon\n",
    "import matplotlib.pyplot as plt\n",
    "%matplotlib inline\n",
    "import gmaps \n",
    "import gmaps.datasets \n"
   ]
  },
  {
   "cell_type": "code",
   "execution_count": 3,
   "metadata": {},
   "outputs": [],
   "source": [
    "con = sqlite3.connect(\"/Users/rena/desktop/class/CA-Collision-History/src/switrs.sqlite\")\n"
   ]
  },
  {
   "cell_type": "code",
   "execution_count": 4,
   "metadata": {},
   "outputs": [
    {
     "data": {
      "text/html": [
       "<div>\n",
       "<style scoped>\n",
       "    .dataframe tbody tr th:only-of-type {\n",
       "        vertical-align: middle;\n",
       "    }\n",
       "\n",
       "    .dataframe tbody tr th {\n",
       "        vertical-align: top;\n",
       "    }\n",
       "\n",
       "    .dataframe thead th {\n",
       "        text-align: right;\n",
       "    }\n",
       "</style>\n",
       "<table border=\"1\" class=\"dataframe\">\n",
       "  <thead>\n",
       "    <tr style=\"text-align: right;\">\n",
       "      <th></th>\n",
       "      <th>latitude</th>\n",
       "      <th>longitude</th>\n",
       "    </tr>\n",
       "  </thead>\n",
       "  <tbody>\n",
       "    <tr>\n",
       "      <th>0</th>\n",
       "      <td>39.61953</td>\n",
       "      <td>-121.69178</td>\n",
       "    </tr>\n",
       "    <tr>\n",
       "      <th>1</th>\n",
       "      <td>37.82839</td>\n",
       "      <td>-120.63505</td>\n",
       "    </tr>\n",
       "    <tr>\n",
       "      <th>2</th>\n",
       "      <td>38.28533</td>\n",
       "      <td>-121.45608</td>\n",
       "    </tr>\n",
       "    <tr>\n",
       "      <th>3</th>\n",
       "      <td>38.52921</td>\n",
       "      <td>-121.33477</td>\n",
       "    </tr>\n",
       "    <tr>\n",
       "      <th>4</th>\n",
       "      <td>38.56349</td>\n",
       "      <td>-121.49161</td>\n",
       "    </tr>\n",
       "    <tr>\n",
       "      <th>...</th>\n",
       "      <td>...</td>\n",
       "      <td>...</td>\n",
       "    </tr>\n",
       "    <tr>\n",
       "      <th>2523806</th>\n",
       "      <td>34.44470</td>\n",
       "      <td>-117.39960</td>\n",
       "    </tr>\n",
       "    <tr>\n",
       "      <th>2523807</th>\n",
       "      <td>34.95313</td>\n",
       "      <td>-120.41725</td>\n",
       "    </tr>\n",
       "    <tr>\n",
       "      <th>2523808</th>\n",
       "      <td>33.43440</td>\n",
       "      <td>-117.47220</td>\n",
       "    </tr>\n",
       "    <tr>\n",
       "      <th>2523809</th>\n",
       "      <td>37.44952</td>\n",
       "      <td>-122.18463</td>\n",
       "    </tr>\n",
       "    <tr>\n",
       "      <th>2523810</th>\n",
       "      <td>37.22209</td>\n",
       "      <td>-121.50213</td>\n",
       "    </tr>\n",
       "  </tbody>\n",
       "</table>\n",
       "<p>2523811 rows × 2 columns</p>\n",
       "</div>"
      ],
      "text/plain": [
       "         latitude  longitude\n",
       "0        39.61953 -121.69178\n",
       "1        37.82839 -120.63505\n",
       "2        38.28533 -121.45608\n",
       "3        38.52921 -121.33477\n",
       "4        38.56349 -121.49161\n",
       "...           ...        ...\n",
       "2523806  34.44470 -117.39960\n",
       "2523807  34.95313 -120.41725\n",
       "2523808  33.43440 -117.47220\n",
       "2523809  37.44952 -122.18463\n",
       "2523810  37.22209 -121.50213\n",
       "\n",
       "[2523811 rows x 2 columns]"
      ]
     },
     "execution_count": 4,
     "metadata": {},
     "output_type": "execute_result"
    }
   ],
   "source": [
    "coll = ('''SELECT latitude, longitude FROM collisions\n",
    "         WHERE latitude IS NOT NULL AND longitude IS NOT NULL \n",
    "         \n",
    "       ''' )\n",
    "\n",
    "lat_long = pd.read_sql_query(coll, con)\n",
    "lat_long\n"
   ]
  },
  {
   "cell_type": "code",
   "execution_count": 5,
   "metadata": {},
   "outputs": [
    {
     "data": {
      "application/vnd.jupyter.widget-view+json": {
       "model_id": "530d7fe10fcf456a984da32d450f5529",
       "version_major": 2,
       "version_minor": 0
      },
      "text/plain": [
       "Figure(layout=FigureLayout(height='420px'))"
      ]
     },
     "metadata": {},
     "output_type": "display_data"
    }
   ],
   "source": [
    "#fig = gmaps.figure()\n",
    "gmaps.configure(api_key='')\n",
    "\n",
    "locations = lat_long[['latitude', 'longitude']]\n",
    "fig = gmaps.figure()\n",
    "fig.add_layer(gmaps.heatmap_layer(locations))\n",
    "fig\n",
    "\n",
    "#2.5Mill crashes"
   ]
  },
  {
   "cell_type": "code",
   "execution_count": null,
   "metadata": {},
   "outputs": [],
   "source": []
  }
 ],
 "metadata": {
  "kernelspec": {
   "display_name": "Python 3",
   "language": "python",
   "name": "python3"
  },
  "language_info": {
   "codemirror_mode": {
    "name": "ipython",
    "version": 3
   },
   "file_extension": ".py",
   "mimetype": "text/x-python",
   "name": "python",
   "nbconvert_exporter": "python",
   "pygments_lexer": "ipython3",
   "version": "3.7.7"
  }
 },
 "nbformat": 4,
 "nbformat_minor": 4
}
