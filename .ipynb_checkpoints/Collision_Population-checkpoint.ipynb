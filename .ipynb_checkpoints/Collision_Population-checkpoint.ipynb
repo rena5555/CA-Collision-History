{
 "cells": [
  {
   "cell_type": "code",
   "execution_count": 1,
   "metadata": {},
   "outputs": [],
   "source": [
    "import pandas as pd\n",
    "import sqlite3\n",
    "import matplotlib.pyplot as plt \n",
    "import matplotlib.dates as mdates \n",
    "from scipy.stats.stats import pearsonr\n",
    "import scipy.stats as stats\n",
    "\n"
   ]
  },
  {
   "cell_type": "code",
   "execution_count": 2,
   "metadata": {},
   "outputs": [],
   "source": [
    "con = sqlite3.connect(\"src/switrs.sqlite\")"
   ]
  },
  {
   "cell_type": "code",
   "execution_count": null,
   "metadata": {},
   "outputs": [],
   "source": [
    "query = '''SELECT Collision_Date FROM collisions\n",
    "           WHERE Collision_Date IS NOT NULL\n",
    "           \n",
    "            AND Bicycle_Collision IS NOT 1\n",
    "            AND Motorcycle_Collision IS NOT 1\n",
    "            AND Pedestrian_Collision IS NOT 1\n",
    "            AND Truck_Collision IS NOT 1\n",
    "    '''\n",
    "\n",
    "car_crashes = pd.read_sql_query(query, con)\n",
    "\n",
    "\n"
   ]
  },
  {
   "cell_type": "code",
   "execution_count": null,
   "metadata": {},
   "outputs": [],
   "source": [
    "car_crashes.head()"
   ]
  },
  {
   "cell_type": "code",
   "execution_count": null,
   "metadata": {},
   "outputs": [],
   "source": [
    "car_crashes['years'] = pd.DatetimeIndex(car_crashes['collision_date']).year\n",
    "\n",
    "car_crashes\n",
    "\n",
    "#out of 9.17M crashes, 7.85M of them are car accidents(86%)"
   ]
  },
  {
   "cell_type": "code",
   "execution_count": null,
   "metadata": {},
   "outputs": [],
   "source": [
    "car_crashes_per_year = car_crashes.groupby('years').count()\n",
    "\n",
    "car_crashes_per_year.head()\n",
    "\n"
   ]
  },
  {
   "cell_type": "code",
   "execution_count": null,
   "metadata": {},
   "outputs": [],
   "source": [
    "car_crashes_per_year['ca_pop'] = [34.49, 34.49, 34.88, 35.25, 35.56, 35.98, 36.23, 36.58,36.96,37.32,37.64, 37.95, 38.26, 38.6,38.92, 39.17,39.36, 39.46, 39.51, 39.78]\n",
    "\n",
    "car_crashes_per_year['per 1000 rate crashes'] = car_crashes_per_year['collision_date']/car_crashes_per_year['ca_pop']\n",
    "car_crashes_per_year['per 1000 rate crashes'] =(car_crashes_per_year['per 1000 rate crashes'] /1000000)*1000\n",
    "\n",
    "car_crashes_per_year.head()"
   ]
  },
  {
   "cell_type": "code",
   "execution_count": null,
   "metadata": {},
   "outputs": [],
   "source": [
    "plt.figure(figsize=(14, 8))\n",
    "x = ['2001', '2002', '2003', '2004', '2005', '2006', '2007', '2008', '2009', '2010', '2011', '2012', '2013', '2014', '2015', '2016', '2017', '2018', '2019','2020']\n",
    "plt.bar(x, height =car_crashes_per_year['per 1000 rate crashes'], color = 'red')\n",
    "\n",
    "\n",
    "plt.xlabel(\"Year\", fontsize = 13, fontweight=\"bold\")\n",
    "plt.ylabel(\"Crashes Per 1000 People\", fontsize = 13, fontweight=\"bold\")\n",
    "plt.title(\"Automobile Collision History 2001-2020\",fontweight=\"bold\", fontsize = 14)\n",
    "\n",
    "#CA POP taken from: https://www.statista.com/statistics/206097/resident-population-in-california/\n"
   ]
  },
  {
   "cell_type": "code",
   "execution_count": null,
   "metadata": {},
   "outputs": [],
   "source": [
    "car_crashes_per_year['ca_unemp_rate'] = [5.4, 6.7, 6.8, 6.2, 5.4, 4.9, 5.4, 7.3, 11.1, 12.2, 11.7, 10.4, 8.9, 7.5, 6.2, 5.5, 4.8, 4.3, 4.1, 10.7]\n",
    "#unemp data taken from https://fred.stlouisfed.org/series/CAUR\n"
   ]
  },
  {
   "cell_type": "code",
   "execution_count": null,
   "metadata": {},
   "outputs": [],
   "source": [
    "# create figure and axis objects with subplots()\n",
    "fig,ax = plt.subplots(figsize = (12,7))\n",
    "\n",
    "#define x = year\n",
    "x = ['2001', '2002', '2003', '2004', '2005', '2006', '2007', '2008', '2009', '2010', '2011', '2012', '2013', '2014', '2015', '2016', '2017', '2018', '2019','2020']\n",
    "# make a plot\n",
    "ax.plot(x, car_crashes_per_year['per 1000 rate crashes'], color=\"red\", marker=\"o\")\n",
    "# set x-axis label\n",
    "ax.set_xlabel(\"Year\",fontsize=14)\n",
    "# set y-axis label\n",
    "ax.set_ylabel(\"Crash Rate\",color=\"red\",fontsize=14)\n",
    "\n",
    "\n",
    "# twin object for two different y-axis on the sample plot\n",
    "ax2=ax.twinx()\n",
    "\n",
    "# make a plot with different y-axis using second axis object\n",
    "ax2.plot(x, car_crashes_per_year['ca_unemp_rate'], color=\"blue\",marker=\"o\")\n",
    "ax2.set_ylabel(\"CA Unemployment Rate (%)\",color=\"blue\",fontsize=14, fontweight=\"bold\")\n",
    "\n",
    "\n",
    "# only one line may be specified; full height\n",
    "\n",
    "plt.axvline(x=7.5, color='g',ls=':', lw=5,label='CA State Bill 28')\n",
    "plt.legend(bbox_to_anchor=(1.0, 1), loc='best')\n",
    "\n",
    "\n",
    "ax.set_xlabel('Year', fontweight=\"bold\", fontsize = 14)\n",
    "ax.set_ylabel('Crashes Per 1000 People', fontweight=\"bold\", fontsize = 14)\n",
    "plt.title(\"Automobile Collision History 2001-2020\",fontweight=\"bold\", fontsize=15)\n",
    "\n",
    "#ax2.grid(None)\n",
    "\n",
    "plt.tight_layout()\n",
    "\n",
    "plt.show()\n",
    "# save the plot as a file\n",
    "#fig.savefig('two_different_y_axis_for_single_python_plot_with_twinx.jpg',\n",
    " #           format='jpeg',\n",
    "  #          dpi=100,\n",
    "   #         bbox_inches='tight')\n",
    "\n",
    "\n",
    "#move legend into box"
   ]
  },
  {
   "cell_type": "markdown",
   "metadata": {},
   "source": [
    "Looking at this chart,exaggerated due to different axis #s. We can see that from 2001-2006 there was a slight positive correlation between crash rates and umep rate. As crash rates went up so did unemp rate and as the unemp rate went down steeply from 2003 to 2006, crash rates went down steadily. The real correlation is from 2006 to 2020 where there is an inverse relationship between crash rate and unemp rate.\n",
    "\n"
   ]
  },
  {
   "cell_type": "code",
   "execution_count": null,
   "metadata": {},
   "outputs": [],
   "source": [
    "#correlation calculation\n",
    "correlation = stats.pearsonr(car_crashes_per_year['per 1000 rate crashes'], car_crashes_per_year['ca_unemp_rate'])\n",
    "print(correlation)\n",
    "\n",
    "#There is a moderately negative or inverse correlation between unemployment rate and crash rates for 2001-2020."
   ]
  },
  {
   "cell_type": "markdown",
   "metadata": {},
   "source": [
    "Unemp rate went up during 2007-2010 due to the Great Recession(Dec 2007 to June 2009), which was the worst and longest lasting financial crisis in the United States since the 1929 Depression.\n",
    "--when people are unemp they are more likely to stay at home. The subprime mortgage crisis was the trigger.\n",
    "\n",
    "Other possible factors that I would dig deeper into given the time:\n",
    "\n",
    "#References: https://www.ncbi.nlm.nih.gov/pmc/articles/PMC4001674/\n",
    "California State Bill 28 \"specifically bans the use of an electronic wireless communications device to write, send, or read a text-based communication while driving a motor vehicle.\"\n",
    "\n",
    "Car safety control regulations\n",
    "Work from home\n",
    "Smarter cars - sensor \n",
    "\n",
    "cell phone use and traffic related deaths \n",
    "\n",
    "driver distraction related accidents - weather\n",
    "\n",
    "There are many other factors that may have contributed to crashes going down, such as CA vehicle safety stanards, \n",
    "carpool rates for CA\n",
    "\n",
    "-possible reasons could be safer vehicles, safety standard for vehicle much higher than previously, standards for child \n",
    "safety; carpooling was big in the 2000s\n",
    "\n"
   ]
  },
  {
   "cell_type": "code",
   "execution_count": null,
   "metadata": {},
   "outputs": [],
   "source": [
    "query = '''SELECT killed_victims, Collision_Date FROM collisions\n",
    "           WHERE killed_victims IS NOT 0 AND\n",
    "           Collision_Date IS NOT NULL\n",
    "           \n",
    "            AND Bicycle_Collision IS NOT 1\n",
    "            AND Motorcycle_Collision IS NOT 1\n",
    "            AND Pedestrian_Collision IS NOT 1\n",
    "            AND Truck_Collision IS NOT 1\n",
    "    '''\n",
    "\n",
    "killed_victims = pd.read_sql_query(query, con)\n",
    "\n",
    "\n"
   ]
  },
  {
   "cell_type": "code",
   "execution_count": null,
   "metadata": {},
   "outputs": [],
   "source": [
    "killed_victims"
   ]
  },
  {
   "cell_type": "code",
   "execution_count": null,
   "metadata": {},
   "outputs": [],
   "source": [
    "killed_victims\n",
    "killed_victims['num_years'] = pd.DatetimeIndex(killed_victims['collision_date']).year\n",
    "killed_victims = killed_victims.groupby('num_years').count()\n"
   ]
  },
  {
   "cell_type": "code",
   "execution_count": null,
   "metadata": {},
   "outputs": [],
   "source": [
    "killed_victims.sum()"
   ]
  },
  {
   "cell_type": "code",
   "execution_count": null,
   "metadata": {},
   "outputs": [],
   "source": [
    "killed_victims['ca_pop'] = [34.49, 34.49, 34.88, 35.25, 35.56, 35.98, 36.23, 36.58,36.96,37.32,37.64, 37.95, 38.26, 38.6,38.92, 39.17,39.36, 39.46, 39.51, 39.78]\n",
    "killed_victims"
   ]
  },
  {
   "cell_type": "code",
   "execution_count": null,
   "metadata": {},
   "outputs": [],
   "source": [
    "killed_victims['ca_pop'] = [34.49, 34.49, 34.88, 35.25, 35.56, 35.98, 36.23, 36.58,36.96,37.32,37.64, 37.95, 38.26, 38.6,38.92, 39.17,39.36, 39.46, 39.51, 39.78]\n",
    "killed_victims['total'] = killed_victims['collision_date']/car_crashes_per_year['ca_pop']\n",
    "killed_victims['total_killed_victims']  =(killed_victims['total']  /100000) *(1000)\n",
    "\n"
   ]
  },
  {
   "cell_type": "code",
   "execution_count": null,
   "metadata": {},
   "outputs": [],
   "source": [
    "killed_victims"
   ]
  },
  {
   "cell_type": "code",
   "execution_count": null,
   "metadata": {},
   "outputs": [],
   "source": [
    "query = '''SELECT Collision_Date, CASE_ID FROM collisions\n",
    "           WHERE Collision_Date IS NOT NULL\n",
    "           \n",
    "            AND Bicycle_Collision IS NOT 1\n",
    "            AND Motorcycle_Collision IS NOT 1\n",
    "            AND Pedestrian_Collision IS NOT 1\n",
    "            AND Truck_Collision IS NOT 1\n",
    "    '''\n",
    "\n",
    "data_merge = pd.read_sql_query(query, con)\n",
    "\n",
    "\n",
    "#cellphone_use"
   ]
  },
  {
   "cell_type": "code",
   "execution_count": null,
   "metadata": {},
   "outputs": [],
   "source": [
    "query = '''SELECT cellphone_use, CASE_ID FROM parties\n",
    "           WHERE at_fault\n",
    "           AND cellphone_use IS 'B'\n",
    "           OR cellphone_use IS 1\n",
    "           OR cellphone_use IS 2\n",
    "           GROUP BY CASE_ID\n",
    "    '''\n",
    "\n",
    "cellphone_use= pd.read_sql_query(query, con)\n",
    "\n",
    "\n"
   ]
  },
  {
   "cell_type": "markdown",
   "metadata": {},
   "source": [
    "B - Cell Phone in Use (4/1/01)\n",
    "C - Cell Phone Not in Use (4/1/01)\n",
    "D - No Cell Phone/Unknown (4/1/01)\n",
    "- - Not Stated (4/1/01)\n",
    "1 - Cell Phone Handheld in Use (7/1/03)\n",
    "2 - Cell Phone Hands Free in Use (7/1/03)\n",
    "3 - Cell Phone Not in Use (7/1/03)"
   ]
  },
  {
   "cell_type": "code",
   "execution_count": null,
   "metadata": {},
   "outputs": [],
   "source": [
    "cellphone_use.mean()"
   ]
  },
  {
   "cell_type": "code",
   "execution_count": null,
   "metadata": {},
   "outputs": [],
   "source": [
    "cell_df =  data_merge.merge(cellphone_use, left_on='case_id', right_on= 'case_id')\n",
    "\n"
   ]
  },
  {
   "cell_type": "code",
   "execution_count": null,
   "metadata": {},
   "outputs": [],
   "source": [
    "cell_df.groupby(['cellphone_use'])\n",
    "cell_df"
   ]
  },
  {
   "cell_type": "code",
   "execution_count": null,
   "metadata": {},
   "outputs": [],
   "source": [
    "cell_df['years'] = pd.DatetimeIndex(cell_df['collision_date']).year\n",
    "cell_df"
   ]
  },
  {
   "cell_type": "code",
   "execution_count": null,
   "metadata": {},
   "outputs": [],
   "source": [
    "cell_df_per_year = cell_df.groupby('years').count()\n",
    "cell_df_per_year.sum()"
   ]
  },
  {
   "cell_type": "code",
   "execution_count": null,
   "metadata": {},
   "outputs": [],
   "source": [
    "\n",
    "cell_df_per_year['ca_pop'] = [34.49, 34.49, 34.88, 35.25, 35.56, 35.98, 36.23, 36.58,36.96,37.32,37.64, 37.95, 38.26, 38.6,38.92, 39.17,39.36, 39.46, 39.51, 39.78]\n",
    "cell_df_per_year['total_cellphone_use'] = cell_df_per_year['cellphone_use']/cell_df_per_year['ca_pop']\n",
    "cell_df_per_year['total_cellphone_use']=cell_df_per_year['total_cellphone_use']  /100000 *(1000)\n",
    "\n"
   ]
  },
  {
   "cell_type": "code",
   "execution_count": null,
   "metadata": {},
   "outputs": [],
   "source": [
    "# create figure and axis objects with subplots()\n",
    "fig,ax = plt.subplots(figsize = (13,7))\n",
    "\n",
    "#define x = year\n",
    "x = ['2001', '2002', '2003', '2004', '2005', '2006', '2007', '2008', '2009', '2010', '2011', '2012', '2013', '2014', '2015', '2016', '2017', '2018', '2019','2020']\n",
    "# make a plot\n",
    "ax.plot(x, car_crashes_per_year['per 1000 rate crashes'], color=\"red\", marker=\"o\")\n",
    "\n",
    "\n",
    "# twin object for two different y-axis on the sample plot\n",
    "ax2=ax.twinx()\n",
    "\n",
    "# make a plot with different y-axis using second axis object\n",
    "ax2.plot(x, cell_df_per_year['total_cellphone_use'] ,color=\"purple\",marker=\"o\")\n",
    "ax2.set_ylabel(\"At Fault Driver Cell Phone Use Per 1000 People\",color=\"purple\",fontsize=14, fontweight ='bold') # add responsible for collision\n",
    "\n",
    "\n",
    "# only one line may be specified; full height\n",
    "plt.axvline(x=7.5, color='g',ls=':', lw=5,label='CA State Bill 28')\n",
    "plt.legend(bbox_to_anchor=(1.0, 1), loc='best')\n",
    "\n",
    "\n",
    "ax.set_xlabel('Year', fontweight=\"bold\", fontsize = 14)\n",
    "ax.set_ylabel('Crashes Per 1000 People', fontweight=\"bold\", fontsize = 14, color=\"red\")\n",
    "\n",
    "plt.title(\"Automobile Collisions Compared To Driver Cell Phone Use\",fontweight=\"bold\", fontsize = 15, color = \"black\")\n",
    "\n",
    "#ax2.grid(None)\n",
    "\n",
    "plt.tight_layout()\n",
    "\n",
    "plt.show()"
   ]
  },
  {
   "cell_type": "markdown",
   "metadata": {},
   "source": [
    "Mention high adoption of cell phone use in 2001- 2006"
   ]
  },
  {
   "cell_type": "code",
   "execution_count": null,
   "metadata": {},
   "outputs": [],
   "source": [
    "query = '''SELECT cellphone_use, CASE_ID FROM parties\n",
    "           WHERE at_fault\n",
    "           AND cellphone_use IS 'C'\n",
    "           OR cellphone_use IS 'D'\n",
    "           OR cellphone_use IS 3\n",
    "           GROUP BY CASE_ID\n",
    "    '''\n",
    "\n",
    "no_cell= pd.read_sql_query(query, con)"
   ]
  },
  {
   "cell_type": "code",
   "execution_count": null,
   "metadata": {},
   "outputs": [],
   "source": [
    "no_cell_df =  data_merge.merge(no_cell, left_on='case_id', right_on= 'case_id')\n",
    "\n",
    "no_cell_df.groupby(['cellphone_use'])\n",
    "no_cell_df"
   ]
  },
  {
   "cell_type": "code",
   "execution_count": null,
   "metadata": {},
   "outputs": [],
   "source": [
    "#Find sum of cell phone collisions for Fisher test\n",
    "start_date = \"2001-01-01\"\n",
    "end_date = \"2008-06-30\"\n",
    "\n",
    "after_start_date = no_cell_df[\"collision_date\"] >= start_date\n",
    "before_end_date = no_cell_df[\"collision_date\"] <= end_date\n",
    "between_two_dates = after_start_date & before_end_date\n",
    "filtered_dates = no_cell_df.loc[between_two_dates]\n",
    "filtered_dates"
   ]
  },
  {
   "cell_type": "code",
   "execution_count": null,
   "metadata": {},
   "outputs": [],
   "source": [
    "                          before bill (7.5yr)~8959peryr             after bill(12.5)~7868. 13% less crashes cell relatd crashes\n",
    "    no_cell_crash          2251763                                       3906051\n",
    "    cell_use_crash         67195                                            98351\n",
    "      "
   ]
  },
  {
   "cell_type": "code",
   "execution_count": null,
   "metadata": {},
   "outputs": [],
   "source": [
    "#Fisher test\n",
    "\n",
    "oddsratio, pvalue =stats.fisher_exact([[ 2251763  , 3906051], [67195 , 98351]])\n",
    "\n",
    "print(pvalue)"
   ]
  },
  {
   "cell_type": "code",
   "execution_count": null,
   "metadata": {},
   "outputs": [],
   "source": [
    "#correlation calculation - not a unit relationship\n",
    "cellphone_corr = stats.pearsonr(car_crashes_per_year['per 1000 rate crashes'], cell_df_per_year['total_cellphone_use'])\n",
    "\n",
    "killedvictim_corr = stats.pearsonr(cell_df_per_year['total_cellphone_use'], killed_victims['total_killed_victims'])\n",
    "\n",
    "print(cellphone_corr)\n",
    "\n",
    "print(killedvictim_corr)\n",
    "\n",
    "#-weak + corre"
   ]
  },
  {
   "cell_type": "markdown",
   "metadata": {},
   "source": [
    "R value is .27 and this indicates a rather weak correlation between car collisions and cell phone use. But R value for victims killed and cell phone use is only .06 which shows a very low to insignificant correlation\n",
    "\n",
    "\n",
    "The National Safety Council reports that cell phone use while driving leads to 1.6 million crashes each year.\n",
    "Nearly 390,000 injuries occur each year from accidents caused by texting while driving.\n",
    "1 out of every 4 car accidents in the United States is caused by texting and driving.\n",
    "Texting while driving is 6x more likely to cause an accident than driving drunk.\n",
    "https://www.edgarsnyder.com/car-accident/cause-of-accident/cell-phone/cell-phone-statistics.html#:~:text=The%20National%20Safety%20Council%20reports,caused%20by%20texting%20and%20driving.\n"
   ]
  },
  {
   "cell_type": "code",
   "execution_count": null,
   "metadata": {},
   "outputs": [],
   "source": [
    "query = '''SELECT Collision_Date FROM collisions\n",
    "            WHERE Collision_Date IS NOT NULL\n",
    "            AND alcohol_involved IS 1\n",
    "            AND Bicycle_Collision IS NOT 1\n",
    "            AND Motorcycle_Collision IS NOT 1\n",
    "            AND Pedestrian_Collision IS NOT 1\n",
    "            AND Truck_Collision IS NOT 1\n",
    "    '''\n",
    "\n",
    "alcohol_involved = pd.read_sql_query(query, con)\n",
    "\n"
   ]
  },
  {
   "cell_type": "code",
   "execution_count": null,
   "metadata": {},
   "outputs": [],
   "source": [
    "alcohol_involved['num_yr'] = pd.DatetimeIndex(alcohol_involved['collision_date']).year\n",
    "alcohol_involved = alcohol_involved.groupby('num_yr').count()\n",
    "alcohol_involved\n",
    "#alc involved where no one killed 806,004, alc involved where people killed = 11,311"
   ]
  },
  {
   "cell_type": "code",
   "execution_count": null,
   "metadata": {},
   "outputs": [],
   "source": [
    "alcohol_involved['ca_pop'] = [34.49, 34.49, 34.88, 35.25, 35.56, 35.98, 36.23, 36.58,36.96,37.32,37.64, 37.95, 38.26, 38.6,38.92, 39.17,39.36, 39.46, 39.51, 39.78]\n",
    "alcohol_involved['alc_use'] = alcohol_involved['collision_date']/alcohol_involved['ca_pop']\n",
    "alcohol_involved['alc_use']=alcohol_involved['alc_use']  /100000 *(1000)\n"
   ]
  },
  {
   "cell_type": "code",
   "execution_count": null,
   "metadata": {},
   "outputs": [],
   "source": [
    "killed_victims['killed_per_alc_use'] = killed_victims['total_killed_victims']/alcohol_involved['alc_use']\n",
    "\n",
    "killed_victims['killed_per_cell_use'] = killed_victims['total_killed_victims']/cell_df_per_year['total_cellphone_use']\n"
   ]
  },
  {
   "cell_type": "code",
   "execution_count": null,
   "metadata": {},
   "outputs": [],
   "source": [
    "# create figure and axis objects with subplots()\n",
    "fig,ax = plt.subplots(figsize = (13, 8))\n",
    "\n",
    "#define x = year\n",
    "x = ['2001', '2002', '2003', '2004', '2005', '2006', '2007', '2008', '2009', '2010', '2011', '2012', '2013', '2014', '2015', '2016', '2017', '2018', '2019','2020']\n",
    "# make a plot\n",
    "ax.plot(x, killed_victims['killed_per_alc_use'] , color=\"red\", marker=\"o\")\n",
    "\n",
    "# set x-axis label\n",
    "ax.set_xlabel(\"Year\",fontsize=13, fontweight=\"bold\")\n",
    "# set y-axis label\n",
    "\n",
    "ax.set_ylabel('Proportion of Victims Killed Due To Alcohol Involved Collision', color=\"red\",fontsize=13, fontweight=\"bold\")\n",
    "ax2.set_ylim(0, .07)\n",
    "# twin object for two different y-axis on the sample plot\n",
    "ax2=ax.twinx()\n",
    "\n",
    "# make a plot with different y-axis using second axis object\n",
    "ax2.plot(x, killed_victims['killed_per_cell_use'] ,color=\"orange\",marker=\"o\")\n",
    "ax2.set_ylabel(\"Proportion of Victims Killed Due To Cell Phone Involved Collision\",color=\"orange\",fontsize=13, fontweight=\"bold\")\n",
    "ax2.set_ylim(0, .7)\n",
    "\n",
    "plt.title(\"Automobile Collisions- Proportion of Victims Killed 2001-2020\",fontweight=\"bold\",fontsize=15)\n",
    "#ax2.grid(None)\n",
    "\n",
    "plt.tight_layout()\n",
    "\n",
    "plt.show()\n",
    "#fix axes labels - alco use per 1k -- vehc collisions while under the influence"
   ]
  },
  {
   "cell_type": "code",
   "execution_count": null,
   "metadata": {},
   "outputs": [],
   "source": [
    "plt.figure(figsize=(13,7))\n",
    "x = ['2001', '2002', '2003', '2004', '2005', '2006', '2007', '2008', '2009', '2010', '2011', '2012', '2013', '2014', '2015', '2016', '2017', '2018', '2019','2020']\n",
    "plt.plot(x, killed_victims['killed_per_alc_use'] , color='red', label = \"Proportion Victims Killed Due To Alcohol Involved Collision\")\n",
    "plt.plot(x, killed_victims['killed_per_cell_use'], color='orange', label = \"Proportion Victims Killed Due To Cell Phone Involved Collision\")\n",
    "\n",
    "plt.xlabel(\"Year\", fontsize=13, fontweight=\"bold\")\n",
    "plt.ylabel(\"Proportion Killed\", fontsize=13, fontweight=\"bold\")\n",
    "plt.title(\"Automobile Collisions - Proportion of Victims Killed 2001-2020\",fontweight=\"bold\",fontsize=15)\n",
    "#proportion = car crash victims/ people drinking and driving involved in collision\n",
    "plt.legend()"
   ]
  },
  {
   "cell_type": "markdown",
   "metadata": {},
   "source": [
    "#Re-ran the queries with below conditions to get those #s:\n",
    "\n",
    "                alcohol_use  cell_phone_use\n",
    "      killed        11311     567\n",
    "      notkilled     806004    25066\n",
    "      \n",
    "    -total killed: 33650\n",
    "    \n",
    "Fisher Test: Null: drivers involved in a car collision while drinking alcohol and drivers using cell phone use while drinking should have equal proportions of victims being killed during a collision.\n",
    "Alt: The probabilities of thse two drivers are unevenly distributed\n",
    "\n",
    "Proportion is not evenly ditributed given p value from fisher test:\n",
    "\n",
    "proportion of victims killed is higher among those involved in accident where driver was drinking alcohol than where\n",
    "driver was using cell phone and was involved in an accident\n"
   ]
  },
  {
   "cell_type": "code",
   "execution_count": null,
   "metadata": {},
   "outputs": [],
   "source": [
    "#Fisher test\n",
    "\n",
    "oddsratio, pvalue =stats.fisher_exact([[11311 , 567], [806004 , 25066]])\n",
    "\n",
    "print(pvalue)\n",
    "#stats.fisher_exact(table, alternative='two-sided')\n",
    "\n",
    "#The probability that we would observe this or an even more imbalanced ratio by chance is about 9.35e-25. With a 5%\n",
    "#signficance level, we can conclude that our observed imbalance is statistically significant\n",
    "#-The number of killed prefer the alcohol use while not killed prefer the celluse\n"
   ]
  },
  {
   "cell_type": "code",
   "execution_count": null,
   "metadata": {},
   "outputs": [],
   "source": [
    "query = '''SELECT killed_victims, CASE_ID, Collision_Date FROM collisions\n",
    "           WHERE killed_victims IS 1 AND\n",
    "           Collision_Date IS NOT NULL\n",
    "          \n",
    "            AND Bicycle_Collision IS NOT 1\n",
    "            AND Motorcycle_Collision IS NOT 1\n",
    "            AND Pedestrian_Collision IS NOT 1\n",
    "            AND Truck_Collision IS NOT 1\n",
    "            GROUP BY CASE_ID\n",
    "    '''\n",
    "\n",
    "alc_killed= pd.read_sql_query(query, con)"
   ]
  },
  {
   "cell_type": "code",
   "execution_count": null,
   "metadata": {},
   "outputs": [],
   "source": [
    "query = '''SELECT cellphone_use, CASE_ID FROM parties\n",
    "           WHERE at_fault\n",
    "           AND cellphone_use IS 'B'\n",
    "           OR cellphone_use IS 1\n",
    "           OR cellphone_use IS 2\n",
    "           GROUP BY CASE_ID\n",
    "    '''\n",
    "\n",
    "cell_killed= pd.read_sql_query(query, con)\n",
    "\n"
   ]
  },
  {
   "cell_type": "code",
   "execution_count": null,
   "metadata": {},
   "outputs": [],
   "source": [
    "merged =  alc_killed.merge(cell_killed, left_on='case_id', right_on= 'case_id')\n",
    "merged"
   ]
  },
  {
   "cell_type": "code",
   "execution_count": null,
   "metadata": {},
   "outputs": [],
   "source": [
    "merged['num_yr'] = pd.DatetimeIndex(merged['collision_date']).year\n",
    "merged = merged.groupby('num_yr').count()\n",
    "merged\n"
   ]
  },
  {
   "cell_type": "code",
   "execution_count": null,
   "metadata": {},
   "outputs": [],
   "source": [
    "query =( '''SELECT party_age, CASE_ID,\n",
    "    SUM(CASE WHEN party_sex=\"male\" THEN 0 ELSE 1 END) AS female,\n",
    "    SUM(CASE WHEN party_sex=\"male\" THEN 1 ELSE 0 END) AS male\n",
    "    FROM parties \n",
    "    WHERE party_sobriety IN ('B', 'D', 'C' ) AND at_fault AND party_sex IN ('male', 'female')\n",
    "    GROUP BY party_age''')\n",
    "alcohol_use = pd.read_sql_query(query, con)\n",
    "alcohol_use.dropna(inplace=True)"
   ]
  },
  {
   "cell_type": "code",
   "execution_count": null,
   "metadata": {},
   "outputs": [],
   "source": [
    "alcohol_use.sum()"
   ]
  },
  {
   "cell_type": "markdown",
   "metadata": {},
   "source": [
    "A - Had Not Been Drinking\n",
    "B - Had Been Drinking, Under Influence\n",
    "C - Had Been Drinking, Not Under Influence\n",
    "D - Had Been Drinking, Impairment Unknown\n",
    "G - Impairment Unknown\n",
    "H - Not Applicable"
   ]
  },
  {
   "cell_type": "code",
   "execution_count": null,
   "metadata": {},
   "outputs": [],
   "source": [
    "age = alcohol_use[alcohol_use['party_age']> 12]\n",
    "age\n"
   ]
  },
  {
   "cell_type": "code",
   "execution_count": null,
   "metadata": {},
   "outputs": [],
   "source": [
    "plt.figure(figsize=(12,5))\n",
    "plt.plot(age[\"party_age\"], age[\"male\"], color='blue', label = \"male\")\n",
    "plt.plot(age[\"party_age\"], age[\"female\"],color='red', label = \"female\")\n",
    "\n",
    "plt.xlabel(\"Age\", fontsize=13, fontweight=\"bold\")\n",
    "plt.ylabel(\"Number Of Crashes\", fontsize=13, fontweight=\"bold\")\n",
    "#plt.xlim([0, 120])\n",
    "\n",
    "plt.title(\"Automobile Collisions - Proportion of Victims Killed 2001-2020\",fontweight=\"bold\",fontsize=15)\n",
    "plt.title(\"At Fault Alcohol Related Automobile Collisions\",fontweight=\"bold\", fontsize=15)\n",
    "\n",
    "plt.legend()\n"
   ]
  },
  {
   "cell_type": "code",
   "execution_count": null,
   "metadata": {},
   "outputs": [],
   "source": [
    "query =( '''SELECT party_age, CASE_ID, party_number_killed,\n",
    "    SUM(CASE WHEN party_sex=\"male\" THEN 0 ELSE 1 END) AS female,\n",
    "    SUM(CASE WHEN party_sex=\"male\" THEN 1 ELSE 0 END) AS male\n",
    "    FROM parties \n",
    "    WHERE party_sobriety IN ('B', 'D', 'C' ) AND at_fault AND party_sex IN ('male', 'female')\n",
    "    GROUP BY party_age''')\n",
    "nalc = pd.read_sql_query(query, con)\n",
    "nalc.dropna(inplace=True)"
   ]
  },
  {
   "cell_type": "code",
   "execution_count": null,
   "metadata": {},
   "outputs": [],
   "source": [
    "nalc =nalc.loc[(nalc['party_age']>37) & (nalc['party_age'] < 49)]\n",
    "nalc.sum()"
   ]
  },
  {
   "cell_type": "code",
   "execution_count": null,
   "metadata": {},
   "outputs": [],
   "source": [
    "M             age 18-28          age 38-48\n",
    "     alc_coll  2.569380e+05      1.017930e+05\n",
    "     no alc   1.273632e+06       6.178990e+05\n",
    "      "
   ]
  },
  {
   "cell_type": "markdown",
   "metadata": {},
   "source": [
    "Fisher Test: \n",
    "Null: Alcohol related collisions for age group of males b/t 18-28 and age group of males b/t 38-48 should have equal proportions. Alt: The probabilities of thse two age groups are unevenly distributed\n",
    "\n",
    "Proportion is not evenly ditributed given p value from fisher test:\n",
    "\n",
    "proportion of males aged 18-28 being involved in a collision given they are drinking is higher than the older age group."
   ]
  },
  {
   "cell_type": "code",
   "execution_count": null,
   "metadata": {},
   "outputs": [],
   "source": [
    "#Fisher test\n",
    "\n",
    "oddsratio, pvalue =stats.fisher_exact([[2.569380e+05, 1.017930e+05], [1.273632e+06 , 6.178990e+05]])\n",
    "\n",
    "print(pvalue)"
   ]
  },
  {
   "cell_type": "code",
   "execution_count": null,
   "metadata": {},
   "outputs": [],
   "source": [
    "FM          age 18-28                age 38-48\n",
    "     alc_coll  7.190800e+04         3.291400e+04\n",
    "     no alc  8.205590e+05            3.765290e+05\n",
    "      "
   ]
  },
  {
   "cell_type": "markdown",
   "metadata": {},
   "source": [
    "Fisher Test: \n",
    "Null: Alcohol related collisions for age group of females b/t 18-28 and age group of females b/t 38-48 should have\n",
    "    equal proportions. Alt: The probabilities of thse two age groups are unevenly distributed\n",
    "\n",
    "Proportion is evenly ditributed given p value from fisher test:\n",
    "\n",
    "proportion of females aged 18-28 being involved in a collision given they are drinking is similar to the older age group."
   ]
  },
  {
   "cell_type": "code",
   "execution_count": null,
   "metadata": {},
   "outputs": [],
   "source": [
    "#Fisher test\n",
    "\n",
    "oddsratio, pvalue =stats.fisher_exact([[7.190800e+04, 3.291400e+04], [8.205590e+05   ,   3.765290e+05]])\n",
    "\n",
    "print(pvalue)"
   ]
  }
 ],
 "metadata": {
  "kernelspec": {
   "display_name": "Python 3",
   "language": "python",
   "name": "python3"
  },
  "language_info": {
   "codemirror_mode": {
    "name": "ipython",
    "version": 3
   },
   "file_extension": ".py",
   "mimetype": "text/x-python",
   "name": "python",
   "nbconvert_exporter": "python",
   "pygments_lexer": "ipython3",
   "version": "3.7.7"
  }
 },
 "nbformat": 4,
 "nbformat_minor": 4
}
